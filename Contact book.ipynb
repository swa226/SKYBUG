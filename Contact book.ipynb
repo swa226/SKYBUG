{
 "cells": [
  {
   "cell_type": "code",
   "execution_count": 1,
   "id": "b085d5d3-6cab-4245-acd1-5dcc2190965f",
   "metadata": {},
   "outputs": [
    {
     "name": "stdout",
     "output_type": "stream",
     "text": [
      "\n",
      "Contact Management System\n",
      "1. Add Contact\n",
      "2. View Contact List\n",
      "3. Search Contact\n",
      "4. Update Contact\n",
      "5. Delete Contact\n",
      "6. Exit\n"
     ]
    },
    {
     "name": "stdin",
     "output_type": "stream",
     "text": [
      "Enter your choice:  1\n",
      "Enter contact name:  simhadri\n",
      "Enter contact phone number:  9648123789\n",
      "Enter contact email:  abc@gmil.com\n",
      "Enter contact address:  abc\n"
     ]
    },
    {
     "name": "stdout",
     "output_type": "stream",
     "text": [
      "Contact added successfully!\n",
      "\n",
      "Contact Management System\n",
      "1. Add Contact\n",
      "2. View Contact List\n",
      "3. Search Contact\n",
      "4. Update Contact\n",
      "5. Delete Contact\n",
      "6. Exit\n"
     ]
    },
    {
     "name": "stdin",
     "output_type": "stream",
     "text": [
      "Enter your choice:  2\n"
     ]
    },
    {
     "name": "stdout",
     "output_type": "stream",
     "text": [
      "1. simhadri: 9648123789\n",
      "\n",
      "Contact Management System\n",
      "1. Add Contact\n",
      "2. View Contact List\n",
      "3. Search Contact\n",
      "4. Update Contact\n",
      "5. Delete Contact\n",
      "6. Exit\n"
     ]
    },
    {
     "name": "stdin",
     "output_type": "stream",
     "text": [
      "Enter your choice:  4\n",
      "Enter the index of the contact to update:  0\n"
     ]
    },
    {
     "name": "stdout",
     "output_type": "stream",
     "text": [
      "Invalid contact index.\n",
      "\n",
      "Contact Management System\n",
      "1. Add Contact\n",
      "2. View Contact List\n",
      "3. Search Contact\n",
      "4. Update Contact\n",
      "5. Delete Contact\n",
      "6. Exit\n"
     ]
    },
    {
     "name": "stdin",
     "output_type": "stream",
     "text": [
      "Enter your choice:  1\n",
      "Enter contact name:  4\n",
      "Enter contact phone number:  \n",
      "Enter contact email:  \n",
      "Enter contact address:  \n"
     ]
    },
    {
     "name": "stdout",
     "output_type": "stream",
     "text": [
      "Contact added successfully!\n",
      "\n",
      "Contact Management System\n",
      "1. Add Contact\n",
      "2. View Contact List\n",
      "3. Search Contact\n",
      "4. Update Contact\n",
      "5. Delete Contact\n",
      "6. Exit\n"
     ]
    },
    {
     "name": "stdin",
     "output_type": "stream",
     "text": [
      "Enter your choice:  5\n",
      "Enter the index of the contact to delete:  2\n"
     ]
    },
    {
     "name": "stdout",
     "output_type": "stream",
     "text": [
      "Contact deleted successfully!\n",
      "\n",
      "Contact Management System\n",
      "1. Add Contact\n",
      "2. View Contact List\n",
      "3. Search Contact\n",
      "4. Update Contact\n",
      "5. Delete Contact\n",
      "6. Exit\n"
     ]
    },
    {
     "name": "stdin",
     "output_type": "stream",
     "text": [
      "Enter your choice:  2\n"
     ]
    },
    {
     "name": "stdout",
     "output_type": "stream",
     "text": [
      "1. simhadri: 9648123789\n",
      "\n",
      "Contact Management System\n",
      "1. Add Contact\n",
      "2. View Contact List\n",
      "3. Search Contact\n",
      "4. Update Contact\n",
      "5. Delete Contact\n",
      "6. Exit\n"
     ]
    },
    {
     "name": "stdin",
     "output_type": "stream",
     "text": [
      "Enter your choice:  4\n",
      "Enter the index of the contact to update:  1\n",
      "Enter new contact name:  simhadri\n",
      "Enter new contact phone number:  9648123783\n",
      "Enter new contact email:  \n",
      "Enter new contact address:  \n"
     ]
    },
    {
     "name": "stdout",
     "output_type": "stream",
     "text": [
      "Contact updated successfully!\n",
      "\n",
      "Contact Management System\n",
      "1. Add Contact\n",
      "2. View Contact List\n",
      "3. Search Contact\n",
      "4. Update Contact\n",
      "5. Delete Contact\n",
      "6. Exit\n"
     ]
    },
    {
     "name": "stdin",
     "output_type": "stream",
     "text": [
      "Enter your choice:  2\n"
     ]
    },
    {
     "name": "stdout",
     "output_type": "stream",
     "text": [
      "1. simhadri: 9648123783\n",
      "\n",
      "Contact Management System\n",
      "1. Add Contact\n",
      "2. View Contact List\n",
      "3. Search Contact\n",
      "4. Update Contact\n",
      "5. Delete Contact\n",
      "6. Exit\n"
     ]
    },
    {
     "name": "stdin",
     "output_type": "stream",
     "text": [
      "Enter your choice:  6\n"
     ]
    },
    {
     "name": "stdout",
     "output_type": "stream",
     "text": [
      "Exiting...\n"
     ]
    }
   ],
   "source": [
    "class Contact:\n",
    "    def __init__(self, name, phone_number, email, address):\n",
    "        self.name = name\n",
    "        self.phone_number = phone_number\n",
    "        self.email = email\n",
    "        self.address = address\n",
    "\n",
    "class ContactManager:\n",
    "    def __init__(self):\n",
    "        self.contacts = []\n",
    "\n",
    "    def add_contact(self, contact):\n",
    "        self.contacts.append(contact)\n",
    "\n",
    "    def view_contacts(self):\n",
    "        for idx, contact in enumerate(self.contacts, start=1):\n",
    "            print(f\"{idx}. {contact.name}: {contact.phone_number}\")\n",
    "\n",
    "    def search_contact(self, search_query):\n",
    "        found_contacts = []\n",
    "        for contact in self.contacts:\n",
    "            if search_query.lower() in contact.name.lower() or search_query in contact.phone_number:\n",
    "                found_contacts.append(contact)\n",
    "        return found_contacts\n",
    "\n",
    "    def update_contact(self, contact_index, new_contact):\n",
    "        self.contacts[contact_index] = new_contact\n",
    "\n",
    "    def delete_contact(self, contact_index):\n",
    "        del self.contacts[contact_index]\n",
    "\n",
    "def main():\n",
    "    contact_manager = ContactManager()\n",
    "\n",
    "    while True:\n",
    "        print(\"\\nContact Management System\")\n",
    "        print(\"1. Add Contact\")\n",
    "        print(\"2. View Contact List\")\n",
    "        print(\"3. Search Contact\")\n",
    "        print(\"4. Update Contact\")\n",
    "        print(\"5. Delete Contact\")\n",
    "        print(\"6. Exit\")\n",
    "\n",
    "        choice = input(\"Enter your choice: \")\n",
    "\n",
    "        if choice == \"1\":\n",
    "            name = input(\"Enter contact name: \")\n",
    "            phone_number = input(\"Enter contact phone number: \")\n",
    "            email = input(\"Enter contact email: \")\n",
    "            address = input(\"Enter contact address: \")\n",
    "            contact = Contact(name, phone_number, email, address)\n",
    "            contact_manager.add_contact(contact)\n",
    "            print(\"Contact added successfully!\")\n",
    "\n",
    "        elif choice == \"2\":\n",
    "            contact_manager.view_contacts()\n",
    "\n",
    "        elif choice == \"3\":\n",
    "            search_query = input(\"Enter name or phone number to search: \")\n",
    "            found_contacts = contact_manager.search_contact(search_query)\n",
    "            if found_contacts:\n",
    "                print(\"Search results:\")\n",
    "                for contact in found_contacts:\n",
    "                    print(f\"{contact.name}: {contact.phone_number}\")\n",
    "            else:\n",
    "                print(\"No contacts found.\")\n",
    "\n",
    "        elif choice == \"4\":\n",
    "            index = int(input(\"Enter the index of the contact to update: \")) - 1\n",
    "            if 0 <= index < len(contact_manager.contacts):\n",
    "                name = input(\"Enter new contact name: \")\n",
    "                phone_number = input(\"Enter new contact phone number: \")\n",
    "                email = input(\"Enter new contact email: \")\n",
    "                address = input(\"Enter new contact address: \")\n",
    "                updated_contact = Contact(name, phone_number, email, address)\n",
    "                contact_manager.update_contact(index, updated_contact)\n",
    "                print(\"Contact updated successfully!\")\n",
    "            else:\n",
    "                print(\"Invalid contact index.\")\n",
    "\n",
    "        elif choice == \"5\":\n",
    "            index = int(input(\"Enter the index of the contact to delete: \")) - 1\n",
    "            if 0 <= index < len(contact_manager.contacts):\n",
    "                contact_manager.delete_contact(index)\n",
    "                print(\"Contact deleted successfully!\")\n",
    "            else:\n",
    "                print(\"Invalid contact index.\")\n",
    "\n",
    "        elif choice == \"6\":\n",
    "            print(\"Exiting...\")\n",
    "            break\n",
    "\n",
    "        else:\n",
    "            print(\"Invalid choice. Please try again.\")\n",
    "\n",
    "if __name__ == \"__main__\":\n",
    "    main()\n"
   ]
  },
  {
   "cell_type": "code",
   "execution_count": null,
   "id": "000e978a-a195-4f0b-ba95-bd416098fad2",
   "metadata": {},
   "outputs": [],
   "source": []
  }
 ],
 "metadata": {
  "kernelspec": {
   "display_name": "Python 3 (ipykernel)",
   "language": "python",
   "name": "python3"
  },
  "language_info": {
   "codemirror_mode": {
    "name": "ipython",
    "version": 3
   },
   "file_extension": ".py",
   "mimetype": "text/x-python",
   "name": "python",
   "nbconvert_exporter": "python",
   "pygments_lexer": "ipython3",
   "version": "3.12.1"
  }
 },
 "nbformat": 4,
 "nbformat_minor": 5
}
