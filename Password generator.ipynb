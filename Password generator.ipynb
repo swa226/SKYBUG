{
 "cells": [
  {
   "cell_type": "code",
   "execution_count": 4,
   "id": "647790f7-a039-49fb-9032-744bd0f2b0ef",
   "metadata": {},
   "outputs": [
    {
     "name": "stdin",
     "output_type": "stream",
     "text": [
      "Enter the desired length of the password:  10\n"
     ]
    },
    {
     "name": "stdout",
     "output_type": "stream",
     "text": [
      "Generated Password: JdYL]I.]95\n"
     ]
    }
   ],
   "source": [
    "import random\n",
    "import string\n",
    "\n",
    "def generate_password(length):\n",
    "    # Define the pool of characters to choose from\n",
    "    characters = string.ascii_letters + string.digits + string.punctuation\n",
    "    \n",
    "    # Generate the password\n",
    "    password = ''.join(random.choice(characters) for i in range(length))\n",
    "    \n",
    "    return password\n",
    "\n",
    "def main():\n",
    "    # Prompt the user for the desired length of the password\n",
    "    length = int(input(\"Enter the desired length of the password: \"))\n",
    "    \n",
    "    # Generate the password\n",
    "    password = generate_password(length)\n",
    "    \n",
    "    # Display the generated password\n",
    "    print(\"Generated Password:\", password)\n",
    "\n",
    "if __name__ == \"__main__\":\n",
    "    main()\n"
   ]
  },
  {
   "cell_type": "code",
   "execution_count": null,
   "id": "1c013fcb-2720-4a19-b3ac-f882ff629911",
   "metadata": {},
   "outputs": [],
   "source": []
  }
 ],
 "metadata": {
  "kernelspec": {
   "display_name": "Python 3 (ipykernel)",
   "language": "python",
   "name": "python3"
  },
  "language_info": {
   "codemirror_mode": {
    "name": "ipython",
    "version": 3
   },
   "file_extension": ".py",
   "mimetype": "text/x-python",
   "name": "python",
   "nbconvert_exporter": "python",
   "pygments_lexer": "ipython3",
   "version": "3.12.1"
  }
 },
 "nbformat": 4,
 "nbformat_minor": 5
}
